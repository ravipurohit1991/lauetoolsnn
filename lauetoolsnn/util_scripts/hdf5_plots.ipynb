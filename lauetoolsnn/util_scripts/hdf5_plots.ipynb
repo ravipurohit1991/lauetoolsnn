{
 "cells": [
  {
   "cell_type": "markdown",
   "id": "006fc736-067e-4e6f-a225-0bb90d91ecdd",
   "metadata": {},
   "source": [
    "## Live plot of script prediction"
   ]
  },
  {
   "cell_type": "code",
   "execution_count": 1,
   "id": "30d5302c-a142-4432-b103-032d72e0b96d",
   "metadata": {},
   "outputs": [
    {
     "ename": "ModuleNotFoundError",
     "evalue": "No module named 'jupyterlab_h5web'",
     "output_type": "error",
     "traceback": [
      "\u001b[1;31m---------------------------------------------------------------------------\u001b[0m",
      "\u001b[1;31mModuleNotFoundError\u001b[0m                       Traceback (most recent call last)",
      "\u001b[1;32m~\\AppData\\Local\\Temp/ipykernel_10732/3621705565.py\u001b[0m in \u001b[0;36m<module>\u001b[1;34m\u001b[0m\n\u001b[1;32m----> 1\u001b[1;33m \u001b[1;32mfrom\u001b[0m \u001b[0mjupyterlab_h5web\u001b[0m \u001b[1;32mimport\u001b[0m \u001b[0mH5Web\u001b[0m\u001b[1;33m\u001b[0m\u001b[1;33m\u001b[0m\u001b[0m\n\u001b[0m\u001b[0;32m      2\u001b[0m \u001b[0mH5Web\u001b[0m\u001b[1;33m(\u001b[0m\u001b[1;34mr\"C:\\Users\\purushot\\Desktop\\github_version_simple\\lauetoolsnn\\multi_mat_LaueNN\\Sn_beta_Si\\results_Sn_beta_Si_2022-07-21_13-04-46\\results.h5\"\u001b[0m\u001b[1;33m)\u001b[0m\u001b[1;33m\u001b[0m\u001b[1;33m\u001b[0m\u001b[0m\n",
      "\u001b[1;31mModuleNotFoundError\u001b[0m: No module named 'jupyterlab_h5web'"
     ]
    }
   ],
   "source": [
    "from jupyterlab_h5web import H5Web\n",
    "H5Web(r\"C:\\Users\\purushot\\Desktop\\github_version_simple\\lauetoolsnn\\multi_mat_LaueNN\\Sn_beta_Si\\results_Sn_beta_Si_2022-07-21_13-04-46\\results.h5\")"
   ]
  },
  {
   "cell_type": "code",
   "execution_count": null,
   "id": "26169bea",
   "metadata": {},
   "outputs": [],
   "source": []
  }
 ],
 "metadata": {
  "kernelspec": {
   "display_name": "Python 3 (ipykernel)",
   "language": "python",
   "name": "python3"
  },
  "language_info": {
   "codemirror_mode": {
    "name": "ipython",
    "version": 3
   },
   "file_extension": ".py",
   "mimetype": "text/x-python",
   "name": "python",
   "nbconvert_exporter": "python",
   "pygments_lexer": "ipython3",
   "version": "3.9.7"
  }
 },
 "nbformat": 4,
 "nbformat_minor": 5
}
