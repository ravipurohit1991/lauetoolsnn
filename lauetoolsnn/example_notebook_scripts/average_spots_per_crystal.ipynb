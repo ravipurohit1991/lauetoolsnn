{
 "cells": [
  {
   "cell_type": "markdown",
   "id": "b90dda43",
   "metadata": {},
   "source": [
    "# Notebook script for generation of training dataset (supports single and two phase material)"
   ]
  },
  {
   "cell_type": "code",
   "execution_count": 1,
   "id": "879b9b5e",
   "metadata": {},
   "outputs": [],
   "source": [
    "## Import modules used for this Notebook\n",
    "import os\n",
    "\n",
    "## if LaueToolsNN is properly installed\n",
    "try:\n",
    "    from lauetoolsnn.utils_lauenn import generate_classHKL, generate_dataset, rmv_freq_class, get_material_detail, prepare_LP_NB\n",
    "except:\n",
    "    # else import from a path where LaueToolsNN files are\n",
    "    import sys\n",
    "    sys.path.append(r\"USER_PATH_HERE\")\n",
    "    from utils_lauenn import generate_classHKL, generate_dataset, rmv_freq_class,  get_material_detail, prepare_LP_NB"
   ]
  },
  {
   "cell_type": "markdown",
   "id": "ad431ffc",
   "metadata": {},
   "source": [
    "## step 1: define material and other parameters for simulating Laue patterns"
   ]
  },
  {
   "cell_type": "code",
   "execution_count": 2,
   "id": "ac3284dc",
   "metadata": {},
   "outputs": [],
   "source": [
    "# =============================================================================\n",
    "## User Input dictionary with parameters\n",
    "## In case of only one phase/material, keep same value for material_ and material1_ key\n",
    "# =============================================================================\n",
    "import tensorflow as tf\n",
    "from tensorflow.keras.layers import BatchNormalization\n",
    "import keras\n",
    "from keras.regularizers import l2\n",
    "from keras.models import Sequential\n",
    "from keras.layers import Dense, Activation, Dropout\n",
    "from keras.constraints import maxnorm\n",
    "\n",
    "metricsNN = [\n",
    "            keras.metrics.FalseNegatives(name=\"fn\"),\n",
    "            keras.metrics.FalsePositives(name=\"fp\"),\n",
    "            keras.metrics.TrueNegatives(name=\"tn\"),\n",
    "            keras.metrics.TruePositives(name=\"tp\"),\n",
    "            keras.metrics.Precision(name=\"precision\"),\n",
    "            keras.metrics.Recall(name=\"accuracy\"),\n",
    "            ]\n",
    "\n",
    "def model_arch_general_optimized(n_bins, n_outputs, kernel_coeff = 0.0005, bias_coeff = 0.0005, lr=None, verbose=1,\n",
    "                       write_to_console=None):\n",
    "    \"\"\"\n",
    "    Very simple and straight forward Neural Network with few hyperparameters\n",
    "    straighforward RELU activation strategy with cross entropy to identify the HKL\n",
    "    Tried BatchNormalization --> no significant impact\n",
    "    Tried weighted approach --> not better for HCP\n",
    "    Trying Regularaization \n",
    "    l2(0.001) means that every coefficient in the weight matrix of the layer \n",
    "    will add 0.001 * weight_coefficient_value**2 to the total loss of the network\n",
    "    1e-3,1e-5,1e-6\n",
    "    \"\"\"\n",
    "    if n_outputs >= n_bins:\n",
    "        param = n_bins\n",
    "        if param*15 < (2*n_outputs): ## quick hack; make Proper implementation\n",
    "            param = (n_bins + n_outputs)//2\n",
    "    else:\n",
    "        # param = n_outputs ## More reasonable ???\n",
    "        param = n_outputs*2 ## More reasonable ???\n",
    "        # param = n_bins//2\n",
    "\n",
    "    model = Sequential()\n",
    "    model.add(keras.Input(shape=(n_bins,)))\n",
    "    ## Hidden layer 1\n",
    "    model.add(Dense(n_bins, kernel_regularizer=l2(kernel_coeff), bias_regularizer=l2(bias_coeff), activation='relu'))\n",
    "    # model.add(BatchNormalization())\n",
    "    # model.add(Activation('relu'))\n",
    "    model.add(Dropout(0.3)) ## Adding dropout as we introduce some uncertain data with noise\n",
    "    ## Hidden layer 2\n",
    "    model.add(Dense(((param)*15 + n_bins)//2, kernel_regularizer=l2(kernel_coeff), bias_regularizer=l2(bias_coeff), activation='relu'))\n",
    "    # model.add(BatchNormalization())\n",
    "    # model.add(Activation('relu'))\n",
    "    model.add(Dropout(0.3))\n",
    "    ## Hidden layer 3\n",
    "    model.add(Dense((param)*15, kernel_regularizer=l2(kernel_coeff), bias_regularizer=l2(bias_coeff), activation='relu'))\n",
    "    # model.add(BatchNormalization())\n",
    "    # model.add(Activation('relu'))\n",
    "    model.add(Dropout(0.3))\n",
    "    ## Output layer \n",
    "    model.add(Dense(n_outputs, activation='softmax'))\n",
    "    ## Compile model\n",
    "    if lr != None:\n",
    "        otp = tf.keras.optimizers.Adam(learning_rate=lr)\n",
    "        model.compile(loss='categorical_crossentropy', optimizer=otp, metrics=[metricsNN])\n",
    "    else:\n",
    "        model.compile(loss='categorical_crossentropy', optimizer=\"adam\", metrics=[metricsNN])\n",
    "    return model"
   ]
  },
  {
   "cell_type": "markdown",
   "id": "11a3f3b0",
   "metadata": {},
   "source": [
    "## Step 2: Get material parameters \n",
    "### Generates a folder with material name and gets material unit cell parameters and symmetry object from the get_material_detail function"
   ]
  },
  {
   "cell_type": "code",
   "execution_count": 13,
   "id": "98f45b21",
   "metadata": {},
   "outputs": [
    {
     "name": "stdout",
     "output_type": "stream",
     "text": [
      "Generating HKL objects\n",
      "Removing harmonics and building equivalent HKL objects\n",
      "Finalizing the HKL objects\n",
      "Saved class HKL data in : C:\\Users\\purushot\\Anaconda3\\envs\\laueNN\\Lib\\site-packages\\lauetoolsnn\\example_notebook_scripts//Cu//classhkl_data_Cu.pickle\n",
      "Cu cubic\n",
      "output_class 13\n",
      "2711518\n",
      "Generating HKL objects\n",
      "Removing harmonics and building equivalent HKL objects\n",
      "Finalizing the HKL objects\n",
      "Saved class HKL data in : C:\\Users\\purushot\\Anaconda3\\envs\\laueNN\\Lib\\site-packages\\lauetoolsnn\\example_notebook_scripts//Ti//classhkl_data_Ti.pickle\n",
      "Ti hexagonal\n",
      "output_class 98\n",
      "10304228\n",
      "Generating HKL objects\n",
      "Removing harmonics and building equivalent HKL objects\n",
      "Finalizing the HKL objects\n",
      "Saved class HKL data in : C:\\Users\\purushot\\Anaconda3\\envs\\laueNN\\Lib\\site-packages\\lauetoolsnn\\example_notebook_scripts//Sn//classhkl_data_Sn.pickle\n",
      "Sn tetragonal\n",
      "output_class 98\n",
      "10304228\n",
      "Generating HKL objects\n",
      "Removing harmonics and building equivalent HKL objects\n",
      "Finalizing the HKL objects\n",
      "Saved class HKL data in : C:\\Users\\purushot\\Anaconda3\\envs\\laueNN\\Lib\\site-packages\\lauetoolsnn\\example_notebook_scripts//ZrO2//classhkl_data_ZrO2.pickle\n",
      "ZrO2 monoclinic\n",
      "output_class 309\n",
      "59130894\n",
      "Generating HKL objects\n",
      "Removing harmonics and building equivalent HKL objects\n",
      "Finalizing the HKL objects\n",
      "Saved class HKL data in : C:\\Users\\purushot\\Anaconda3\\envs\\laueNN\\Lib\\site-packages\\lauetoolsnn\\example_notebook_scripts//Li2VOPO4//classhkl_data_Li2VOPO4.pickle\n",
      "Li2VOPO4 triclinic\n",
      "output_class 577\n",
      "182766262\n"
     ]
    }
   ],
   "source": [
    "\n",
    "mat = [\"Cu\", \"Ti\", \"Sn\", \"ZrO2\", \"Li2VOPO4\"]\n",
    "sym = [\"cubic\",\"hexagonal\",\"tetragonal\",\"monoclinic\",\"triclinic\"]\n",
    "for ij in range(len(mat)):\n",
    "    material_= mat[ij]\n",
    "    material1_= mat[ij]\n",
    "    n = 5\n",
    "    symm_ = sym[ij]\n",
    "    symm1_ = sym[ij]\n",
    "    SG = None\n",
    "    SG1 = None\n",
    "    save_directory = os.getcwd()+\"//\"+material_\n",
    "    if not os.path.exists(save_directory):\n",
    "        os.makedirs(save_directory)\n",
    "    ## get unit cell parameters and other details required for simulating Laue patterns\n",
    "    rules, symmetry, lattice_material, \\\n",
    "        crystal, SG, rules1, symmetry1,\\\n",
    "        lattice_material1, crystal1, SG1 = get_material_detail(material_, SG, symm_,\n",
    "                                                               material1_, SG1, symm1_)\n",
    "    ## procedure for generation of GROUND TRUTH classes\n",
    "    # general_diff_cond = True will eliminate the hkl index that does not satisfy the general reflection conditions\n",
    "    generate_classHKL(n, rules, lattice_material, symmetry, material_, crystal=crystal, SG=SG, general_diff_cond=True,\n",
    "              save_directory=save_directory, write_to_console=print, ang_maxx = 120, \n",
    "              step = 0.1)\n",
    "    import numpy as np\n",
    "    import _pickle as cPickle\n",
    "    with open(save_directory+\"//classhkl_data_\"+material_+\".pickle\", \"rb\") as input_file:\n",
    "        classhkl, _, _, _, _, _, _, _, _ = cPickle.load(input_file)\n",
    "    angbins = np.arange(0, 120+0.1, 0.1)\n",
    "    n_bins = len(angbins)-1\n",
    "    n_outputs = len(classhkl)\n",
    "    print(material_, symm_)\n",
    "    model = model_arch_general_optimized(n_bins, n_outputs)\n",
    "    print(\"output_class\", n_outputs)\n",
    "    print(model.count_params())"
   ]
  },
  {
   "cell_type": "code",
   "execution_count": 14,
   "id": "b059eb4e",
   "metadata": {},
   "outputs": [
    {
     "name": "stdout",
     "output_type": "stream",
     "text": [
      "Model: \"sequential_26\"\n",
      "_________________________________________________________________\n",
      " Layer (type)                Output Shape              Param #   \n",
      "=================================================================\n",
      " dense_96 (Dense)            (None, 1200)              1441200   \n",
      "                                                                 \n",
      " dropout_73 (Dropout)        (None, 1200)              0         \n",
      "                                                                 \n",
      " dense_97 (Dense)            (None, 9255)              11115255  \n",
      "                                                                 \n",
      " dropout_74 (Dropout)        (None, 9255)              0         \n",
      "                                                                 \n",
      " dense_98 (Dense)            (None, 17310)             160221360 \n",
      "                                                                 \n",
      " dropout_75 (Dropout)        (None, 17310)             0         \n",
      "                                                                 \n",
      " dense_99 (Dense)            (None, 577)               9988447   \n",
      "                                                                 \n",
      "=================================================================\n",
      "Total params: 182,766,262\n",
      "Trainable params: 182,766,262\n",
      "Non-trainable params: 0\n",
      "_________________________________________________________________\n"
     ]
    }
   ],
   "source": [
    "model.summary()"
   ]
  },
  {
   "cell_type": "code",
   "execution_count": 3,
   "id": "59f4d727-46c7-4027-978f-2fd36aa39d38",
   "metadata": {},
   "outputs": [
    {
     "name": "stderr",
     "output_type": "stream",
     "text": [
      "100%|██████████| 1/1 [00:03<00:00,  3.95s/it]"
     ]
    },
    {
     "name": "stdout",
     "output_type": "stream",
     "text": [
      "Al2TiO5 490.87 6.183292003455765\n"
     ]
    },
    {
     "name": "stderr",
     "output_type": "stream",
     "text": [
      "\n"
     ]
    }
   ],
   "source": [
    "import numpy as np\n",
    "from tqdm import trange\n",
    "mat = [\"Cu\", \"Ti\", \"Sn\", \"ZrO2\", \"Li2VOPO4\"]\n",
    "sym = [\"cubic\",\"hexagonal\",\"tetragonal\",\"monoclinic\",\"triclinic\"]\n",
    "\n",
    "mat = [\"Al2TiO5\"]\n",
    "sym = [\"orthorhombic\"]\n",
    "\n",
    "\n",
    "for ij in trange(len(mat)):\n",
    "    material_= mat[ij]\n",
    "    material1_= mat[ij]\n",
    "\n",
    "    noisy_data = False #bool(random.getrandbits(1)) \n",
    "    remove_peaks = False #bool(random.getrandbits(1)) \n",
    "    \n",
    "    nbgrains = 1 ## material0\n",
    "    nbgrains1 = 0 ## material1\n",
    "    verbose = 0\n",
    "    \n",
    "    length = []\n",
    "    for _ in range(100):\n",
    "        seednumber = np.random.randint(1e6)\n",
    "        tabledistancerandom, hkl_sol, \\\n",
    "                s_posx, s_posy, s_I, s_tth, s_chi, g, g1  = prepare_LP_NB(nbgrains, nbgrains1,\n",
    "                                                                        material_, verbose,\n",
    "                                                                        material1_ = material1_,\n",
    "                                                                        seed = seednumber,sortintensity=True,\n",
    "                                                                        detectorparameters=[79.553,979.32,932.31,0.37,0.447], \n",
    "                                                                        pixelsize=0.0734,\n",
    "                                                                        dim1=2018, dim2=2016, \n",
    "                                                                        emin=5, emax=23,\n",
    "                                                                        flag = 10, noisy_data=noisy_data,\n",
    "                                                                        remove_peaks = remove_peaks)\n",
    "        length.append(len(s_posx))\n",
    "        \n",
    "    length = np.array(length)\n",
    "    \n",
    "    print(material_, np.average(length), np.std(length))\n",
    "    "
   ]
  },
  {
   "cell_type": "code",
   "execution_count": null,
   "id": "66212cb8-c409-4c87-b3d1-95637bf5e07a",
   "metadata": {},
   "outputs": [],
   "source": []
  }
 ],
 "metadata": {
  "kernelspec": {
   "display_name": "Python 3 (ipykernel)",
   "language": "python",
   "name": "python3"
  },
  "language_info": {
   "codemirror_mode": {
    "name": "ipython",
    "version": 3
   },
   "file_extension": ".py",
   "mimetype": "text/x-python",
   "name": "python",
   "nbconvert_exporter": "python",
   "pygments_lexer": "ipython3",
   "version": "3.9.12"
  }
 },
 "nbformat": 4,
 "nbformat_minor": 5
}
