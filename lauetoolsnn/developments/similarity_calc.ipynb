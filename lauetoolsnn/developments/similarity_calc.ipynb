{
 "cells": [
  {
   "cell_type": "markdown",
   "id": "3bae3587-e4a0-434e-bb07-8ea82a2dca3a",
   "metadata": {},
   "source": [
    "## Correlation calculations "
   ]
  },
  {
   "cell_type": "code",
   "execution_count": null,
   "id": "f291099a-9d81-4515-8985-3517e6892feb",
   "metadata": {},
   "outputs": [],
   "source": [
    "from sewar.full_ref import mse, rmse, psnr, uqi, ssim, ergas, scc, rase, sam, msssim, vifp\n",
    "\n",
    "##List of estimators to compare two images\n",
    "#Mean Squared Error (MSE)\n",
    "#Root Mean Squared Error (RMSE)\n",
    "#Peak Signal-to-Noise Ratio (PSNR)\n",
    "#Structural Similarity Index (SSIM)\n",
    "#Universal Quality Image Index (UQI)\n",
    "#Multi-scale Structural Similarity Index (MS-SSIM)\n",
    "#Erreur Relative Globale Adimensionnelle de Synthèse (ERGAS)\n",
    "#Spatial Correlation Coefficient (SCC)\n",
    "#Relative Average Spectral Error (RASE)\n",
    "#Spectral Angle Mapper (SAM)\n",
    "#Visual Information Fidelity (VIF)\n",
    "\n",
    "from tqdm import trange\n",
    "\n",
    "index_of_interest = 87\n",
    "\n",
    "index_ = []\n",
    "for i in trange(len(tr)):\n",
    "    ind = vifp(tr[i].reshape((-1,nbimagesperline)), tr[index_of_interest].reshape((-1,nbimagesperline)))\n",
    "    index_.append(ind)\n",
    "    \n",
    "index_ = np.array(index_)\n",
    "\n",
    "list_idx_counters = np.where(index_>0.1)[0]"
   ]
  }
 ],
 "metadata": {
  "kernelspec": {
   "display_name": "LAUETOOLSENV",
   "language": "python",
   "name": "lauetoolsenv"
  },
  "language_info": {
   "codemirror_mode": {
    "name": "ipython",
    "version": 3
   },
   "file_extension": ".py",
   "mimetype": "text/x-python",
   "name": "python",
   "nbconvert_exporter": "python",
   "pygments_lexer": "ipython3",
   "version": "3.8.10"
  }
 },
 "nbformat": 4,
 "nbformat_minor": 5
}
